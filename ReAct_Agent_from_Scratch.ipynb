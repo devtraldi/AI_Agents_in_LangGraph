{
 "cells": [
  {
   "cell_type": "markdown",
   "id": "14d9a205-f1af-4bcd-8994-16aa37bd1e97",
   "metadata": {},
   "source": [
    "# Simple ReAct Agent from Scratch"
   ]
  },
  {
   "cell_type": "code",
   "execution_count": 7,
   "id": "731edcb9-0949-4ffe-88ae-ab9aaf9f2bbf",
   "metadata": {},
   "outputs": [],
   "source": [
    "# based on https://til.simonwillison.net/llms/python-react-pattern"
   ]
  },
  {
   "cell_type": "code",
   "execution_count": 8,
   "id": "9d4caf27-a1e3-495a-8ca7-e995387e7bd8",
   "metadata": {},
   "outputs": [],
   "source": [
    "import openai\n",
    "import re\n",
    "import httpx\n",
    "import os\n",
    "from dotenv import load_dotenv\n",
    "\n",
    "_ = load_dotenv()\n",
    "from openai import OpenAI"
   ]
  },
  {
   "cell_type": "code",
   "execution_count": 9,
   "id": "a9a6c386-909c-4775-b69c-27f0da5d3f20",
   "metadata": {},
   "outputs": [],
   "source": [
    "client = OpenAI()"
   ]
  },
  {
   "cell_type": "code",
   "execution_count": 10,
   "id": "abfda7c0-bfa2-4eac-b94a-ae26da80dabe",
   "metadata": {},
   "outputs": [
    {
     "name": "stdout",
     "output_type": "stream",
     "text": [
      "Fetching available models for your API key...\n",
      "An error occurred: Connection error.\n"
     ]
    }
   ],
   "source": [
    "import os\n",
    "from openai import OpenAI\n",
    "from dotenv import load_dotenv\n",
    "\n",
    "# Load environment variables from .env file\n",
    "_ = load_dotenv()\n",
    "\n",
    "try:\n",
    "    # The client automatically reads the OPENAI_API_KEY from the environment\n",
    "    client = OpenAI()\n",
    "\n",
    "    print(\"Fetching available models for your API key...\")\n",
    "    \n",
    "    # Retrieve the list of model objects\n",
    "    models_list = client.models.list()\n",
    "    \n",
    "    # Extract and print the ID of each model\n",
    "    for model in models_list:\n",
    "        print(f\"- {model.id}\")\n",
    "\n",
    "except Exception as e:\n",
    "    print(f\"An error occurred: {e}\")"
   ]
  },
  {
   "cell_type": "code",
   "execution_count": null,
   "id": "14b51808-ff6b-436c-bdf3-3ab7355ffb86",
   "metadata": {},
   "outputs": [],
   "source": [
    "chat_completion = client.chat.completions.create(\n",
    "    model=\"gpt-3.5-turbo\",\n",
    "    messages=[{\"role\": \"user\", \"content\": \"Hello world\"}]\n",
    ")"
   ]
  },
  {
   "cell_type": "code",
   "execution_count": null,
   "id": "b4fbf595-7dfe-4b41-bc21-efd234a2e7b4",
   "metadata": {},
   "outputs": [],
   "source": [
    "chat_completion.choices[0].message.content"
   ]
  }
 ],
 "metadata": {
  "kernelspec": {
   "display_name": "Python 3 (ipykernel)",
   "language": "python",
   "name": "python3"
  },
  "language_info": {
   "codemirror_mode": {
    "name": "ipython",
    "version": 3
   },
   "file_extension": ".py",
   "mimetype": "text/x-python",
   "name": "python",
   "nbconvert_exporter": "python",
   "pygments_lexer": "ipython3",
   "version": "3.11.0"
  }
 },
 "nbformat": 4,
 "nbformat_minor": 5
}
